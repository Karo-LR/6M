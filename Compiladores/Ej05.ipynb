{
 "cells": [
  {
   "cell_type": "code",
   "execution_count": 1,
   "metadata": {},
   "outputs": [
    {
     "name": "stdout",
     "output_type": "stream",
     "text": [
      "La cadena 'ana' es un palíndromo.\n"
     ]
    }
   ],
   "source": [
    "def es_palindromo(cadena):\n",
    "    # Eliminar espacios y convertir a minúsculas para comparar\n",
    "    cadena = cadena.replace(\" \", \"\").lower()\n",
    "    \n",
    "    # Comparar la cadena original con su reverso\n",
    "    return cadena == cadena[::-1]\n",
    "\n",
    "# Ejemplo de uso\n",
    "cadena = input(\"Ingresa una cadena: \")\n",
    "\n",
    "if es_palindromo(cadena):\n",
    "    print(f\"La cadena '{cadena}' es un palíndromo.\")\n",
    "else:\n",
    "    print(f\"La cadena '{cadena}' no es un palíndromo.\")"
   ]
  }
 ],
 "metadata": {
  "kernelspec": {
   "display_name": "Python 3",
   "language": "python",
   "name": "python3"
  },
  "language_info": {
   "codemirror_mode": {
    "name": "ipython",
    "version": 3
   },
   "file_extension": ".py",
   "mimetype": "text/x-python",
   "name": "python",
   "nbconvert_exporter": "python",
   "pygments_lexer": "ipython3",
   "version": "3.10.2"
  }
 },
 "nbformat": 4,
 "nbformat_minor": 2
}
