{
 "cells": [
  {
   "cell_type": "code",
   "execution_count": 3,
   "metadata": {},
   "outputs": [
    {
     "name": "stdout",
     "output_type": "stream",
     "text": [
      "Grados Farenheit:  [32.0, 212.0]\n",
      "Grados Centigrados:  [0.0, 100.0]\n"
     ]
    }
   ],
   "source": [
    "datos_grados_fahrenheit = []\n",
    "datos_grados_centigrados = []\n",
    "i = 0\n",
    "\n",
    "\n",
    "while True:\n",
    "    \n",
    "    entrada = input (\"Ingresa un valor en grados Faherengeit, o 'salir' para terminar: \")\n",
    "    if entrada  == 'salir':\n",
    "        break\n",
    "    else:\n",
    "        try:\n",
    "            numero = float(entrada)\n",
    "            datos_grados_fahrenheit.append(numero)\n",
    "            grados_centigrados = (datos_grados_fahrenheit[i] - 32)/1.8\n",
    "            grados_centigrados = round(grados_centigrados,2)\n",
    "            datos_grados_centigrados.append(grados_centigrados)\n",
    "            i = i+1\n",
    "        except:\n",
    "            print(\"Ingresa un numero valido o salir\")\n",
    "            \n",
    "print(\"Grados Farenheit: \", datos_grados_fahrenheit)\n",
    "print(\"Grados Centigrados: \", datos_grados_centigrados)"
   ]
  }
 ],
 "metadata": {
  "kernelspec": {
   "display_name": "Python 3",
   "language": "python",
   "name": "python3"
  },
  "language_info": {
   "codemirror_mode": {
    "name": "ipython",
    "version": 3
   },
   "file_extension": ".py",
   "mimetype": "text/x-python",
   "name": "python",
   "nbconvert_exporter": "python",
   "pygments_lexer": "ipython3",
   "version": "3.10.2"
  }
 },
 "nbformat": 4,
 "nbformat_minor": 2
}
