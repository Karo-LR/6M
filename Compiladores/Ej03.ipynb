{
 "cells": [
  {
   "cell_type": "code",
   "execution_count": 1,
   "metadata": {},
   "outputs": [
    {
     "name": "stdout",
     "output_type": "stream",
     "text": [
      "La palabra 'amor' es alfabética.\n"
     ]
    }
   ],
   "source": [
    "# Función para verificar si una palabra es alfabética\n",
    "def es_alfabetica(palabra):\n",
    "    return list(palabra) == sorted(palabra)\n",
    "\n",
    "# Ejemplo de uso\n",
    "palabra = input(\"Ingresa una palabra: \").lower()\n",
    "\n",
    "if es_alfabetica(palabra):\n",
    "    print(f\"La palabra '{palabra}' es alfabética.\")\n",
    "else:\n",
    "    print(f\"La palabra '{palabra}' no es alfabética.\")"
   ]
  }
 ],
 "metadata": {
  "kernelspec": {
   "display_name": "Python 3",
   "language": "python",
   "name": "python3"
  },
  "language_info": {
   "codemirror_mode": {
    "name": "ipython",
    "version": 3
   },
   "file_extension": ".py",
   "mimetype": "text/x-python",
   "name": "python",
   "nbconvert_exporter": "python",
   "pygments_lexer": "ipython3",
   "version": "3.10.2"
  }
 },
 "nbformat": 4,
 "nbformat_minor": 2
}
