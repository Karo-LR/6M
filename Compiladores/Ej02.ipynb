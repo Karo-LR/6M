{
 "cells": [
  {
   "cell_type": "code",
   "execution_count": 5,
   "metadata": {},
   "outputs": [
    {
     "name": "stdout",
     "output_type": "stream",
     "text": [
      "El punto más cercano al punto (1, 1) es el punto p2 con una distancia de 1.41\n"
     ]
    }
   ],
   "source": [
    "import math\n",
    "\n",
    "# Función para calcular la distancia entre dos puntos (x1, y1) y (x2, y2)\n",
    "def calcular_distancia(x1, y1, x2, y2):\n",
    "    return math.sqrt((x1 - x2)**2 + (y1 - y2)**2)\n",
    "\n",
    "# Función para encontrar el punto más cercano al primer punto\n",
    "def punto_mas_cercano(p1, p2, p3, p4, p5):\n",
    "    distancias = [\n",
    "        calcular_distancia(p1[0], p1[1], p2[0], p2[1]),\n",
    "        calcular_distancia(p1[0], p1[1], p3[0], p3[1]),\n",
    "        calcular_distancia(p1[0], p1[1], p4[0], p4[1]),\n",
    "        calcular_distancia(p1[0], p1[1], p5[0], p5[1])\n",
    "    ]\n",
    "    \n",
    "    min_distancia = min(distancias)\n",
    "    indice_mas_cercano = distancias.index(min_distancia) + 2\n",
    "    \n",
    "    return indice_mas_cercano, min_distancia\n",
    "\n",
    "# Ejemplo de puntos\n",
    "p1 = (1, 1)\n",
    "p2 = (2, 2)\n",
    "p3 = (3, 3)\n",
    "p4 = (4, 4)\n",
    "p5 = (5, 5)\n",
    "\n",
    "indice, distancia = punto_mas_cercano(p1, p2, p3, p4, p5)\n",
    "\n",
    "print(f\"El punto más cercano al punto {p1} es el punto p{indice} con una distancia de {distancia:.2f}\")"
   ]
  }
 ],
 "metadata": {
  "kernelspec": {
   "display_name": "Python 3",
   "language": "python",
   "name": "python3"
  },
  "language_info": {
   "codemirror_mode": {
    "name": "ipython",
    "version": 3
   },
   "file_extension": ".py",
   "mimetype": "text/x-python",
   "name": "python",
   "nbconvert_exporter": "python",
   "pygments_lexer": "ipython3",
   "version": "3.10.2"
  }
 },
 "nbformat": 4,
 "nbformat_minor": 2
}
