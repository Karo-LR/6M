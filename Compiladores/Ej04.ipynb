{
 "cells": [
  {
   "cell_type": "code",
   "execution_count": 4,
   "metadata": {},
   "outputs": [
    {
     "name": "stdout",
     "output_type": "stream",
     "text": [
      "Texto cifrado: p4\n"
     ]
    }
   ],
   "source": [
    "def cifrar(texto, n):\n",
    "    resultado = []\n",
    "\n",
    "    for char in texto:\n",
    "        if char.islower():  # Para letras minúsculas\n",
    "            nueva_letra = chr((ord(char) - ord('a') + n) % 26 + ord('a'))\n",
    "            resultado.append(nueva_letra)\n",
    "        elif char.isupper():  # Para letras mayúsculas\n",
    "            nueva_letra = chr((ord(char) - ord('A') + n) % 26 + ord('A'))\n",
    "            resultado.append(nueva_letra)\n",
    "        elif char.isdigit():  # Para dígitos\n",
    "            nuevo_digito = chr((ord(char) - ord('0') + n) % 10 + ord('0'))\n",
    "            resultado.append(nuevo_digito)\n",
    "        else:\n",
    "            resultado.append(char)  # Otros caracteres no se cifran\n",
    "\n",
    "    return ''.join(resultado)\n",
    "\n",
    "# Ejemplo de uso\n",
    "texto = input(\"Ingresa el texto a cifrar: \")\n",
    "n = int(input(\"Ingresa el valor de n: \"))\n",
    "\n",
    "texto_cifrado = cifrar(texto, n)\n",
    "\n",
    "print(f\"Texto cifrado: {texto_cifrado}\")"
   ]
  }
 ],
 "metadata": {
  "kernelspec": {
   "display_name": "Python 3",
   "language": "python",
   "name": "python3"
  },
  "language_info": {
   "codemirror_mode": {
    "name": "ipython",
    "version": 3
   },
   "file_extension": ".py",
   "mimetype": "text/x-python",
   "name": "python",
   "nbconvert_exporter": "python",
   "pygments_lexer": "ipython3",
   "version": "3.10.2"
  }
 },
 "nbformat": 4,
 "nbformat_minor": 2
}
