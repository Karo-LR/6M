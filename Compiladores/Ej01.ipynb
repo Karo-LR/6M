{
 "cells": [
  {
   "cell_type": "code",
   "execution_count": 4,
   "metadata": {},
   "outputs": [
    {
     "name": "stdout",
     "output_type": "stream",
     "text": [
      "2 billetes de 200 pesos\n",
      "1 billetes de 20 pesos\n",
      "1 monedas de 10 pesos\n",
      "2 monedas de 2 pesos\n"
     ]
    }
   ],
   "source": [
    "# Función para calcular el desglose en billetes y monedas\n",
    "def calcular_desglose(cantidad):\n",
    "    billetes_monedas = {\n",
    "        \"billetes de 500 pesos\": 500,\n",
    "        \"billetes de 200 pesos\": 200,\n",
    "        \"billetes de 100 pesos\": 100,\n",
    "        \"billetes de 50 pesos\": 50,\n",
    "        \"billetes de 20 pesos\": 20,\n",
    "        \"monedas de 10 pesos\": 10,\n",
    "        \"monedas de 5 pesos\": 5,\n",
    "        \"monedas de 2 pesos\": 2,\n",
    "        \"monedas de 1 peso\": 1\n",
    "    }\n",
    "    \n",
    "    desglose = {}\n",
    "\n",
    "    for nombre, valor in billetes_monedas.items():\n",
    "        if cantidad >= valor:\n",
    "            cantidad_unidades = cantidad // valor\n",
    "            cantidad -= cantidad_unidades * valor\n",
    "            desglose[nombre] = cantidad_unidades\n",
    "    \n",
    "    return desglose\n",
    "\n",
    "# Ejemplo de uso\n",
    "cantidad = 434\n",
    "resultado = calcular_desglose(cantidad)\n",
    "\n",
    "# Imprimir el resultado\n",
    "for nombre, unidades in resultado.items():\n",
    "    print(f\"{unidades} {nombre}\")"
   ]
  }
 ],
 "metadata": {
  "kernelspec": {
   "display_name": "Python 3",
   "language": "python",
   "name": "python3"
  },
  "language_info": {
   "codemirror_mode": {
    "name": "ipython",
    "version": 3
   },
   "file_extension": ".py",
   "mimetype": "text/x-python",
   "name": "python",
   "nbconvert_exporter": "python",
   "pygments_lexer": "ipython3",
   "version": "3.10.2"
  }
 },
 "nbformat": 4,
 "nbformat_minor": 2
}
